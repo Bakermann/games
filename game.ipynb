{
 "cells": [
  {
   "cell_type": "code",
   "execution_count": 9,
   "id": "91553ef9-e052-4226-b9e3-c7d4c56e26e4",
   "metadata": {},
   "outputs": [],
   "source": [
    "from connect4.p4 import connect4"
   ]
  },
  {
   "cell_type": "code",
   "execution_count": null,
   "id": "6fe96a2f",
   "metadata": {},
   "outputs": [
    {
     "name": "stdout",
     "output_type": "stream",
     "text": [
      "[' ', ' ', ' ', ' ', ' ', ' ', ' ']\n",
      "[' ', ' ', ' ', 'O', ' ', ' ', ' ']\n",
      "[' ', 'X', ' ', 'X', ' ', 'O', 'X']\n",
      "[' ', 'O', ' ', 'X', ' ', 'X', 'O']\n",
      "[' ', 'X', ' ', 'O', ' ', 'X', 'O']\n",
      "[' ', 'X', 'O', 'O', 'X', 'O', 'O']\n"
     ]
    }
   ],
   "source": [
    "connect4()"
   ]
  }
 ],
 "metadata": {
  "kernelspec": {
   "display_name": "Python 3 (ipykernel)",
   "language": "python",
   "name": "python3"
  },
  "language_info": {
   "codemirror_mode": {
    "name": "ipython",
    "version": 3
   },
   "file_extension": ".py",
   "mimetype": "text/x-python",
   "name": "python",
   "nbconvert_exporter": "python",
   "pygments_lexer": "ipython3",
   "version": "3.12.7"
  }
 },
 "nbformat": 4,
 "nbformat_minor": 5
}
